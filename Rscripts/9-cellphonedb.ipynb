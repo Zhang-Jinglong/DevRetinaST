{
 "cells": [
  {
   "cell_type": "code",
   "execution_count": 1,
   "id": "ef3a9141-46e2-4a1d-9837-7636f460b2fb",
   "metadata": {},
   "outputs": [],
   "source": [
    "import pathlib\n",
    "\n",
    "import numpy as np\n",
    "import pandas as pd\n",
    "import scanpy as sc\n",
    "from cellphonedb.src.core.methods import cpdb_statistical_analysis_method\n",
    "from cellphonedb.utils.db_utils import create_db\n",
    "from scipy.sparse import csr_matrix\n",
    "\n",
    "np.random.seed(3407)"
   ]
  },
  {
   "cell_type": "code",
   "execution_count": 2,
   "id": "fc7a7304-cd87-4939-a3fc-e0f81c718543",
   "metadata": {},
   "outputs": [
    {
     "name": "stdout",
     "output_type": "stream",
     "text": [
      "WARNING: The following UniProt ids map to multiple gene names (it is expected that they should map to only one):\n",
      "P16619, P01562, Q8TBF2, Q7Z5A9, Q96LR4, Q7Z5A7\n",
      "\n",
      "Created /Users/zhangjl/Documents/Proj/Dev_Retina/outputs/CCC/CellPhoneDB/cellphonedb-data-4.0.0/data/cellphonedb_03_21_2024_16:24:07.zip successfully\n"
     ]
    }
   ],
   "source": [
    "# Build CellPhoneDB v4.0.0\n",
    "cpdb_dir = pathlib.Path(\"/Users/zhangjl/Documents/Proj/Dev_Retina/outputs/CCC/CellPhoneDB/cellphonedb-data-4.0.0/data\")\n",
    "create_db(str(cpdb_dir))"
   ]
  },
  {
   "cell_type": "code",
   "execution_count": 3,
   "id": "43042f91-8987-49fb-8517-b3ab35d8bf91",
   "metadata": {},
   "outputs": [],
   "source": [
    "# Load data\n",
    "proj_dir = pathlib.Path(\"/Users/zhangjl/Documents/Proj/Dev_Retina/outputs/CCC/\")\n",
    "\n",
    "sc_count = sc.read_csv(proj_dir / \"CellPhoneDB/retina_sc.csv\").T\n",
    "sc_count.X = csr_matrix(sc_count.X)\n",
    "\n",
    "sc_meta = pd.read_csv(proj_dir / \"CellPhoneDB/retina_sc_meta.csv\", index_col=0)\n",
    "sc_meta.index = sc_meta.index.str.replace(\"-1\", \".1\")"
   ]
  },
  {
   "cell_type": "code",
   "execution_count": 4,
   "id": "99824dc6-839f-4bf9-807b-f00cb1677168",
   "metadata": {},
   "outputs": [],
   "source": [
    "# Inspect data\n",
    "sc_meta = sc_meta.loc[sc_count.obs_names, :].reset_index().iloc[:, :2]\n",
    "sc_meta.columns = [\"Cell\", \"cell_type\"]\n",
    "sc_meta.to_csv(\n",
    "    proj_dir / \"CellPhoneDB/cpdb_meta.csv\", index=False\n",
    ")\n",
    "\n",
    "sc.pp.normalize_total(sc_count)\n",
    "sc.pp.log1p(sc_count)\n",
    "sc_count.write_h5ad(\n",
    "    proj_dir / \"CellPhoneDB/cpdb_count.h5ad\"\n",
    ")"
   ]
  },
  {
   "cell_type": "code",
   "execution_count": 5,
   "id": "e14f17ef-9c0f-4cff-93a9-497eb9dcf895",
   "metadata": {},
   "outputs": [
    {
     "name": "stdout",
     "output_type": "stream",
     "text": [
      "Reading user files...\n",
      "The following user files were loaded successfully:\n",
      "/Users/zhangjl/Documents/Proj/Dev_Retina/outputs/CCC/CellPhoneDB/cpdb_count.h5ad\n",
      "/Users/zhangjl/Documents/Proj/Dev_Retina/outputs/CCC/CellPhoneDB/cpdb_meta.csv\n",
      "[ ][CORE][21/03/24-16:28:05][INFO] [Cluster Statistical Analysis] Threshold:0.1 Iterations:1000 Debug-seed:-1 Threads:4 Precision:3\n",
      "[ ][CORE][21/03/24-16:28:12][INFO] Running Real Analysis\n",
      "[ ][CORE][21/03/24-16:28:12][INFO] Running Statistical Analysis\n"
     ]
    },
    {
     "name": "stderr",
     "output_type": "stream",
     "text": [
      "100%|████████████████████████████████████████████████████████████████████████████████████████████████████████████████████████████████████████████████████| 1000/1000 [2:50:13<00:00, 10.21s/it]"
     ]
    },
    {
     "name": "stdout",
     "output_type": "stream",
     "text": [
      "[ ][CORE][21/03/24-19:18:28][INFO] Building Pvalues result\n"
     ]
    },
    {
     "name": "stderr",
     "output_type": "stream",
     "text": [
      "\n"
     ]
    },
    {
     "name": "stdout",
     "output_type": "stream",
     "text": [
      "[ ][CORE][21/03/24-19:18:28][INFO] Building results\n",
      "Saved deconvoluted to /Users/zhangjl/Documents/Proj/Dev_Retina/outputs/CCC/CellPhoneDB/statistical_analysis_deconvoluted_03_21_2024_19:18:28.txt\n",
      "Saved means to /Users/zhangjl/Documents/Proj/Dev_Retina/outputs/CCC/CellPhoneDB/statistical_analysis_means_03_21_2024_19:18:28.txt\n",
      "Saved pvalues to /Users/zhangjl/Documents/Proj/Dev_Retina/outputs/CCC/CellPhoneDB/statistical_analysis_pvalues_03_21_2024_19:18:28.txt\n",
      "Saved significant_means to /Users/zhangjl/Documents/Proj/Dev_Retina/outputs/CCC/CellPhoneDB/statistical_analysis_significant_means_03_21_2024_19:18:28.txt\n"
     ]
    }
   ],
   "source": [
    "# CellPhoneDB\n",
    "cpdb_results = cpdb_statistical_analysis_method.call(\n",
    "    cpdb_file_path=str(proj_dir / \"CellPhoneDB/cellphonedb-data-4.0.0/cellphonedb.zip\"),\n",
    "    meta_file_path=str(proj_dir / \"CellPhoneDB/cpdb_meta.csv\"),\n",
    "    counts_file_path=str(proj_dir / \"CellPhoneDB/cpdb_count.h5ad\"),\n",
    "    counts_data=\"hgnc_symbol\",\n",
    "    threads=4,\n",
    "    threshold=0.1,\n",
    "    output_path=str(proj_dir / \"CellPhoneDB\")\n",
    ")"
   ]
  }
 ],
 "metadata": {
  "kernelspec": {
   "display_name": "cpdb",
   "language": "python",
   "name": "cpdb"
  },
  "language_info": {
   "codemirror_mode": {
    "name": "ipython",
    "version": 3
   },
   "file_extension": ".py",
   "mimetype": "text/x-python",
   "name": "python",
   "nbconvert_exporter": "python",
   "pygments_lexer": "ipython3",
   "version": "3.8.18"
  }
 },
 "nbformat": 4,
 "nbformat_minor": 5
}
